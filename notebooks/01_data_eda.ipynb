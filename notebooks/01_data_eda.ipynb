{
 "cells": [
  {
   "cell_type": "markdown",
   "id": "94cf5e73",
   "metadata": {},
   "source": [
    "# NLP Sentiment Analysis - Step 1: Data Loading and EDA\n",
    "\n",
    "This notebook demonstrates loading the IMDB dataset, creating train/validation/test splits, and performing basic exploratory data analysis."
   ]
  },
  {
   "cell_type": "markdown",
   "id": "3d19ab26",
   "metadata": {},
   "source": [
    "## 1. Imports\n",
    "Import required libraries for data handling and visualisation."
   ]
  },
  {
   "cell_type": "code",
   "execution_count": 4,
   "id": "4fd96703",
   "metadata": {},
   "outputs": [],
   "source": [
    "import pandas as pd\n",
    "import matplotlib.pyplot as plt"
   ]
  },
  {
   "cell_type": "markdown",
   "id": "9dd92ecd",
   "metadata": {},
   "source": [
    "## 2. Convert HuggingFace Dataset to Pandas DataFrames\n",
    "Split the training set into train and validation sets."
   ]
  },
  {
   "cell_type": "code",
   "execution_count": 6,
   "id": "0ca21367",
   "metadata": {},
   "outputs": [
    {
     "name": "stdout",
     "output_type": "stream",
     "text": [
      "Train: 20000\n",
      "Valid: 5000\n",
      "Test : 25000\n"
     ]
    }
   ],
   "source": [
    "def to_df(hf_dataset):\n",
    "    return pd.DataFrame({\"text\": hf_dataset[\"text\"], \"label\": hf_dataset[\"label\"]})\n",
    "\n",
    "split = dataset[\"train\"].train_test_split(test_size=0.2, seed=42, stratify_by_column=\"label\")\n",
    "train_df = to_df(split[\"train\"])\n",
    "valid_df = to_df(split[\"test\"])\n",
    "test_df  = to_df(dataset[\"test\"])\n",
    "\n",
    "print(\"Train:\", len(train_df))\n",
    "print(\"Valid:\", len(valid_df))\n",
    "print(\"Test :\", len(test_df))"
   ]
  },
  {
   "cell_type": "markdown",
   "id": "0547fadc",
   "metadata": {},
   "source": [
    "## 3. Exploratory Data Analysis\n",
    "Check label balance and review lengths in the training sets."
   ]
  },
  {
   "cell_type": "code",
   "execution_count": 7,
   "id": "e3f05613",
   "metadata": {},
   "outputs": [
    {
     "name": "stdout",
     "output_type": "stream",
     "text": [
      "Train labels:\n",
      " label\n",
      "1    10000\n",
      "0    10000\n",
      "Name: count, dtype: int64\n",
      "Valid labels:\n",
      " label\n",
      "0    2500\n",
      "1    2500\n",
      "Name: count, dtype: int64\n",
      "Average words per review: 234.1071\n",
      "Median words per review : 174.0\n"
     ]
    }
   ],
   "source": [
    "print(\"Train labels:\\n\", train_df['label'].value_counts())\n",
    "print(\"Valid labels:\\n\", valid_df['label'].value_counts())\n",
    "\n",
    "train_df[\"word_count\"] = train_df[\"text\"].str.split().map(len)\n",
    "print(\"Average words per review:\", train_df[\"word_count\"].mean())\n",
    "print(\"Median words per review :\", train_df[\"word_count\"].median())"
   ]
  },
  {
   "cell_type": "markdown",
   "id": "680c6c8b",
   "metadata": {},
   "source": [
    "### 3a. Distribution of review lengths\n",
    "Visualise how long the veviews are."
   ]
  },
  {
   "cell_type": "code",
   "execution_count": 8,
   "id": "a5498af4",
   "metadata": {},
   "outputs": [
    {
     "data": {
      "image/png": "[encoded data removed]",
      "text/plain": [
       "<Figure size 640x480 with 1 Axes>"
      ]
     },
     "metadata": {},
     "output_type": "display_data"
    }
   ],
   "source": [
    "train_df[\"word_count\"].hist(bins=50)\n",
    "plt.title(\"Distribution of review lengths (train set)\")\n",
    "plt.xlabel(\"Words per review\")\n",
    "plt.ylabel(\"Count\")\n",
    "plt.show()"
   ]
  },
  {
   "cell_type": "markdown",
   "id": "bdb916e7",
   "metadata": {},
   "source": [
    "## 4. Save Processed Data\n",
    "Save train, validation and test sets for reproducibility."
   ]
  },
  {
   "cell_type": "code",
   "execution_count": 10,
   "id": "cebd1be5",
   "metadata": {},
   "outputs": [],
   "source": [
    "import os\n",
    "os.makedirs(\"data/processed\", exist_ok=True)\n",
    "\n",
    "train_df.to_csv(\"../data/processed/train.csv\", index=False)\n",
    "valid_df.to_csv(\"../data/processed/valid.csv\", index=False)\n",
    "test_df.to_csv(\"../data/processed/test.csv\", index=False)"
   ]
  }
 ],
 "metadata": {
  "kernelspec": {
   "display_name": ".venv",
   "language": "python",
   "name": "python3"
  },
  "language_info": {
   "codemirror_mode": {
    "name": "ipython",
    "version": 3
   },
   "file_extension": ".py",
   "mimetype": "text/x-python",
   "name": "python",
   "nbconvert_exporter": "python",
   "pygments_lexer": "ipython3",
   "version": "3.10.11"
  }
 },
 "nbformat": 4,
 "nbformat_minor": 5
}
