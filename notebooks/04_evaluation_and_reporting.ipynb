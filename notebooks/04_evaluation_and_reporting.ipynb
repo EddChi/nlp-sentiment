{
 "cells": [
  {
   "cell_type": "markdown",
   "id": "b1e2e48f",
   "metadata": {},
   "source": [
    "# NLP Sentiment Analysis - Step 4: Evaluation and Reporting\n",
    "\n",
    "In this notebook, we consolidate results from our previous experiments:\n",
    "\n",
    "1. **Baseline Model (Logistic Regression + TF-IDF)** - Notebook 2\n",
    "2. **Transformer Model (DistilBERT fine-tuning)** - Notebook 3\n",
    "\n",
    "- Compare both models side by side\n",
    "- Visualise differences in accuracy and other metrics\n",
    "- Summarise insights and discuss trade-offs\n",
    "- Save sifures for reporting in `reports/figures/`"
   ]
  },
  {
   "cell_type": "markdown",
   "id": "8f5eb473",
   "metadata": {},
   "source": [
    "## Baseline Model: Logistic Regression\n",
    "\n",
    "From Notebook 2, the Logistic Regression baseline achieved:\n",
    "\n",
    "- Test Accuracy: **89.2%**\n",
    "- Precision: 0.89\n",
    "- Recall: 0.89\n",
    "- F1-score: 0.89"
   ]
  }
 ],
 "metadata": {
  "language_info": {
   "name": "python"
  }
 },
 "nbformat": 4,
 "nbformat_minor": 5
}
