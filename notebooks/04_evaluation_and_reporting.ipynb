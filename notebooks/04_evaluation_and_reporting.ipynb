{
 "cells": [
  {
   "cell_type": "markdown",
   "id": "b1e2e48f",
   "metadata": {},
   "source": [
    "# NLP Sentiment Analysis - Step 4: Evaluation and Reporting\n",
    "\n",
    "In this notebook, we consolidate results from our previous experiments:\n",
    "\n",
    "1. **Baseline Model (Logistic Regression + TF-IDF)** - Notebook 2\n",
    "2. **Transformer Model (DistilBERT fine-tuning)** - Notebook 3\n",
    "\n",
    "- Compare both models side by side\n",
    "- Evaluate not only accuracy, but also precision, recall and F1-score \n",
    "- Visualise differences in performance\n",
    "- Summarise insights and discuss trade-offs\n",
    "- Save figures for reporting in `reports/figures/`"
   ]
  },
  {
   "cell_type": "markdown",
   "id": "8f5eb473",
   "metadata": {},
   "source": [
    "## Baseline Model: Logistic Regression\n",
    "\n",
    "From Notebook 2, the Logistic Regression baseline achieved:\n",
    "\n",
    "- Accuracy: **89.2%**\n",
    "- Precision: 0.89\n",
    "- Recall: 0.89\n",
    "- F1-score: 0.89\n",
    "\n",
    "This shows that simple TF–IDF features combined with a linear classifier can already perform very well on IMDB sentiment analysis."
   ]
  },
  {
   "cell_type": "code",
   "execution_count": 1,
   "id": "e11be777",
   "metadata": {},
   "outputs": [],
   "source": [
    "baseline_results = {\n",
    "    \"Accuracy\": 0.892,\n",
    "    \"Precision\": 0.89,\n",
    "    \"Recall\": 0.89,\n",
    "    \"F1-score\": 0.89\n",
    "}"
   ]
  },
  {
   "cell_type": "markdown",
   "id": "c515bbde",
   "metadata": {},
   "source": [
    "## Transformer Model: DistilBERT\n",
    "\n",
    "From Notebook 3, DistilBERT fine-tuned on a reduced dataset (2k training, 1k validation, 2 epochs) achieved:\n",
    "\n",
    "- Accuracy: **87%**\n",
    "- Precision: 0.85\n",
    "- Recall: 0.89\n",
    "- F1-score: 0.87\n",
    "\n",
    "\n",
    "Expected a higher performance (>90%) when trained on the full dataset for more epochs, but for this demostration run, DistilBERT did not supass the Logistic Regression baseline."
   ]
  },
  {
   "cell_type": "code",
   "execution_count": 8,
   "id": "0f791921",
   "metadata": {},
   "outputs": [],
   "source": [
    "transformer_results = {\n",
    "    \"Accuracy\": 0.87,\n",
    "    \"Precision\": 0.85,\n",
    "    \"Recall\": 0.89,\n",
    "    \"F1-score\": 0.87\n",
    "}"
   ]
  },
  {
   "cell_type": "markdown",
   "id": "17cf0bfc",
   "metadata": {},
   "source": [
    "## Comparison Table"
   ]
  },
  {
   "cell_type": "code",
   "execution_count": 9,
   "id": "568d4728",
   "metadata": {},
   "outputs": [
    {
     "data": {
      "text/html": [
       "<div>\n",
       "<style scoped>\n",
       "    .dataframe tbody tr th:only-of-type {\n",
       "        vertical-align: middle;\n",
       "    }\n",
       "\n",
       "    .dataframe tbody tr th {\n",
       "        vertical-align: top;\n",
       "    }\n",
       "\n",
       "    .dataframe thead th {\n",
       "        text-align: right;\n",
       "    }\n",
       "</style>\n",
       "<table border=\"1\" class=\"dataframe\">\n",
       "  <thead>\n",
       "    <tr style=\"text-align: right;\">\n",
       "      <th></th>\n",
       "      <th>Accuracy</th>\n",
       "      <th>Precision</th>\n",
       "      <th>Recall</th>\n",
       "      <th>F1-score</th>\n",
       "    </tr>\n",
       "  </thead>\n",
       "  <tbody>\n",
       "    <tr>\n",
       "      <th>Logistic Regression</th>\n",
       "      <td>0.892</td>\n",
       "      <td>0.89</td>\n",
       "      <td>0.89</td>\n",
       "      <td>0.89</td>\n",
       "    </tr>\n",
       "    <tr>\n",
       "      <th>DistilBERT</th>\n",
       "      <td>0.870</td>\n",
       "      <td>0.85</td>\n",
       "      <td>0.89</td>\n",
       "      <td>0.87</td>\n",
       "    </tr>\n",
       "  </tbody>\n",
       "</table>\n",
       "</div>"
      ],
      "text/plain": [
       "                     Accuracy  Precision  Recall  F1-score\n",
       "Logistic Regression     0.892       0.89    0.89      0.89\n",
       "DistilBERT              0.870       0.85    0.89      0.87"
      ]
     },
     "execution_count": 9,
     "metadata": {},
     "output_type": "execute_result"
    }
   ],
   "source": [
    "import pandas as pd\n",
    "\n",
    "dataframe = pd.DataFrame([baseline_results, transformer_results], index=[\"Logistic Regression\", \"DistilBERT\"])\n",
    "dataframe"
   ]
  },
  {
   "cell_type": "markdown",
   "id": "bc6159d7",
   "metadata": {},
   "source": [
    "## Visual Comparison\n",
    "\n",
    "We now plot the results for a quick visual comparison between Logistic Regression and DistilBERT."
   ]
  },
  {
   "cell_type": "code",
   "execution_count": 11,
   "id": "d2623c8d",
   "metadata": {},
   "outputs": [
    {
     "data": {
      "image/png": "[encoded data removed]",
      "text/plain": [
       "<Figure size 800x500 with 1 Axes>"
      ]
     },
     "metadata": {},
     "output_type": "display_data"
    }
   ],
   "source": [
    "import matplotlib.pyplot as plt\n",
    "\n",
    "dataframe[[\"Accuracy\",\"Precision\",\"Recall\",\"F1-score\"]].plot(kind=\"bar\", figsize=(8,5))\n",
    "plt.title(\"Model Comparison: Logistic Regression vs DistilBERT\")\n",
    "plt.ylabel(\"Score\")\n",
    "plt.xticks(rotation=0)\n",
    "plt.ylim(0.7, 1.0)\n",
    "plt.show()"
   ]
  },
  {
   "cell_type": "markdown",
   "id": "175f072f",
   "metadata": {},
   "source": [
    "## Discussions and Takeaways\n",
    "\n",
    "- **Logistic Regression**: Accuracy ~89%, Precision ~0.89, Recall ~0.89,  F1 ~0.89\n",
    "- **DistilBERT**: Accuracy ~87%, Precision ~0.85, Recall ~0.89, F1 ~0.87\n",
    "\n",
    "### Key Insights:\n",
    "- Logistic Regression outperformed DistilBERT in this specific run due to limited training data (2k samples) and only 2 epochs\n",
    "- DistilBERT’s architecture is designed to capture richer semantic information, and with proper fine-tuning on the full dataset, it is expected to exceed 90% accuracy and F1\n",
    "- Evaluating multiple metrics (Accuracy, Precision, Recall, F1) provides a clearer picture than accuracy alone\n",
    "\n",
    "### Future Work:\n",
    "- Fine-tune DistilBERT on the full dataset for 3–5 epochs\n",
    "- Experiment with larger models like BERT-base and RoBERTa\n",
    "- Use confusion matrices and ROC-AUC curves for deeper evaluation"
   ]
  }
 ],
 "metadata": {
  "kernelspec": {
   "display_name": ".venv",
   "language": "python",
   "name": "python3"
  },
  "language_info": {
   "codemirror_mode": {
    "name": "ipython",
    "version": 3
   },
   "file_extension": ".py",
   "mimetype": "text/x-python",
   "name": "python",
   "nbconvert_exporter": "python",
   "pygments_lexer": "ipython3",
   "version": "3.10.11"
  }
 },
 "nbformat": 4,
 "nbformat_minor": 5
}
