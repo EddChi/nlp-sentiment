{
 "cells": [
  {
   "cell_type": "markdown",
   "id": "2eac6b7f",
   "metadata": {},
   "source": [
    "# NLP Sentiment Analysis - Step 3: Transformer Model: Fine tuning DistilBERT\n",
    "\n",
    "In the previous notebooks, we explored the IMDb dataset (`01_data_eda.ipynb`) and built a baseline Logistic Regression model using TF-IDF features (`02_baseline_model.ipynb`). While the baseline performed reasonablity well, it is limited in its ability to capture the deeper semantic meaning of text.\n",
    "In this notebook we will move beyond the baseline machine learning model and start fine-tuning a modern Transformer model (DistilBERT) for sentient classification.\n",
    "\n",
    "The goals of this step are:\n",
    "- Load a pre-trained DistilBERT model from HuggingFace\n",
    "- Tokenise the IMDb dataset using the model's tokeniser\n",
    "- Fine-tune DistilBERT on the training dataset\n",
    "- Evaluate the model on the validation and test sets\n",
    "- Compare results with the baseline Logistic Regression model\n"
   ]
  },
  {
   "cell_type": "markdown",
   "id": "49e0d230",
   "metadata": {},
   "source": [
    "## 1. Imports\n",
    "Import required libraries and load the IMDb dataset"
   ]
  },
  {
   "cell_type": "code",
   "execution_count": 1,
   "id": "8b08d06f",
   "metadata": {},
   "outputs": [],
   "source": [
    "import torch\n",
    "from datasets import load_dataset\n",
    "from transformers import AutoTokenizer, AutoModelForSequenceClassification, TrainingArguments, Trainer\n",
    "import evaluate\n",
    "\n",
    "# Load the IMDb dataset (train, test, unsupervised)\n",
    "dataset = load_dataset(\"imdb\")"
   ]
  }
 ],
 "metadata": {
  "kernelspec": {
   "display_name": ".venv",
   "language": "python",
   "name": "python3"
  },
  "language_info": {
   "codemirror_mode": {
    "name": "ipython",
    "version": 3
   },
   "file_extension": ".py",
   "mimetype": "text/x-python",
   "name": "python",
   "nbconvert_exporter": "python",
   "pygments_lexer": "ipython3",
   "version": "3.10.11"
  }
 },
 "nbformat": 4,
 "nbformat_minor": 5
}
